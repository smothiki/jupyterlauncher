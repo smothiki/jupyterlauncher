{
 "cells": [
  {
   "cell_type": "code",
   "execution_count": 12,
   "id": "42a336af-5623-4817-bad0-75d8d777cfa5",
   "metadata": {},
   "outputs": [
    {
     "name": "stdout",
     "output_type": "stream",
     "text": [
      "Requirement already satisfied: scikit-learn in /Users/smothiki/.pyenv/versions/3.10.4/lib/python3.10/site-packages (1.5.2)\n",
      "Requirement already satisfied: numpy>=1.19.5 in /Users/smothiki/.pyenv/versions/3.10.4/lib/python3.10/site-packages (from scikit-learn) (2.0.2)\n",
      "Requirement already satisfied: scipy>=1.6.0 in /Users/smothiki/.pyenv/versions/3.10.4/lib/python3.10/site-packages (from scikit-learn) (1.14.1)\n",
      "Requirement already satisfied: joblib>=1.2.0 in /Users/smothiki/.pyenv/versions/3.10.4/lib/python3.10/site-packages (from scikit-learn) (1.4.2)\n",
      "Requirement already satisfied: threadpoolctl>=3.1.0 in /Users/smothiki/.pyenv/versions/3.10.4/lib/python3.10/site-packages (from scikit-learn) (3.5.0)\n"
     ]
    }
   ],
   "source": [
    "!pip3 install scikit-learn"
   ]
  },
  {
   "cell_type": "code",
   "execution_count": 13,
   "id": "d5be9409-a38a-48d3-b91a-db97482ae322",
   "metadata": {},
   "outputs": [
    {
     "name": "stdout",
     "output_type": "stream",
     "text": [
      "who are you\n"
     ]
    }
   ],
   "source": [
    "print(\"who are you\")"
   ]
  },
  {
   "cell_type": "code",
   "execution_count": 14,
   "id": "b8c0382d-f5f5-4c72-b9fa-3ed6717be0eb",
   "metadata": {},
   "outputs": [
    {
     "name": "stdout",
     "output_type": "stream",
     "text": [
      "catch me if you can\n"
     ]
    }
   ],
   "source": [
    "print(\"catch me if you can\")"
   ]
  },
  {
   "cell_type": "code",
   "execution_count": 15,
   "id": "da613d5a-4bab-4bb9-8a46-b20b1fd65eaf",
   "metadata": {},
   "outputs": [
    {
     "name": "stdout",
     "output_type": "stream",
     "text": [
      "jaffa pailan\n"
     ]
    }
   ],
   "source": [
    "print(\"jaffa pailan\")"
   ]
  },
  {
   "cell_type": "code",
   "execution_count": null,
   "id": "1ba0f429-03cb-4b73-afe7-e33a4b6d48eb",
   "metadata": {},
   "outputs": [],
   "source": []
  }
 ],
 "metadata": {
  "kernelspec": {
   "display_name": "Python 3 (ipykernel)",
   "language": "python",
   "name": "python3"
  },
  "language_info": {
   "codemirror_mode": {
    "name": "ipython",
    "version": 3
   },
   "file_extension": ".py",
   "mimetype": "text/x-python",
   "name": "python",
   "nbconvert_exporter": "python",
   "pygments_lexer": "ipython3",
   "version": "3.10.4"
  }
 },
 "nbformat": 4,
 "nbformat_minor": 5
}
