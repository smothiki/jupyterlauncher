{
 "cells": [
  {
   "cell_type": "code",
   "execution_count": 1,
   "id": "42a336af-5623-4817-bad0-75d8d777cfa5",
   "metadata": {
    "execution": {
     "iopub.execute_input": "2025-10-03T04:10:13.221734Z",
     "iopub.status.busy": "2025-10-03T04:10:13.221397Z",
     "iopub.status.idle": "2025-10-03T04:10:14.007666Z",
     "shell.execute_reply": "2025-10-03T04:10:14.007138Z"
    }
   },
   "outputs": [
    {
     "name": "stdout",
     "output_type": "stream",
     "text": [
      "Requirement already satisfied: scikit-learn in /Users/smothiki/.pyenv/versions/3.10.4/lib/python3.10/site-packages (1.5.2)\r\n",
      "Requirement already satisfied: numpy>=1.19.5 in /Users/smothiki/.pyenv/versions/3.10.4/lib/python3.10/site-packages (from scikit-learn) (2.0.2)\r\n",
      "Requirement already satisfied: scipy>=1.6.0 in /Users/smothiki/.pyenv/versions/3.10.4/lib/python3.10/site-packages (from scikit-learn) (1.14.1)\r\n",
      "Requirement already satisfied: joblib>=1.2.0 in /Users/smothiki/.pyenv/versions/3.10.4/lib/python3.10/site-packages (from scikit-learn) (1.4.2)\r\n",
      "Requirement already satisfied: threadpoolctl>=3.1.0 in /Users/smothiki/.pyenv/versions/3.10.4/lib/python3.10/site-packages (from scikit-learn) (3.5.0)\r\n"
     ]
    }
   ],
   "source": [
    "!pip3 install scikit-learn"
   ]
  },
  {
   "cell_type": "code",
   "execution_count": 2,
   "id": "d5be9409-a38a-48d3-b91a-db97482ae322",
   "metadata": {
    "execution": {
     "iopub.execute_input": "2025-10-03T04:10:14.010424Z",
     "iopub.status.busy": "2025-10-03T04:10:14.010256Z",
     "iopub.status.idle": "2025-10-03T04:10:14.012767Z",
     "shell.execute_reply": "2025-10-03T04:10:14.012415Z"
    }
   },
   "outputs": [
    {
     "name": "stdout",
     "output_type": "stream",
     "text": [
      "who are you\n"
     ]
    }
   ],
   "source": [
    "print(\"who are you\")"
   ]
  },
  {
   "cell_type": "code",
   "execution_count": 3,
   "id": "b8c0382d-f5f5-4c72-b9fa-3ed6717be0eb",
   "metadata": {
    "execution": {
     "iopub.execute_input": "2025-10-03T04:10:14.014383Z",
     "iopub.status.busy": "2025-10-03T04:10:14.014260Z",
     "iopub.status.idle": "2025-10-03T04:10:14.016323Z",
     "shell.execute_reply": "2025-10-03T04:10:14.016028Z"
    }
   },
   "outputs": [
    {
     "name": "stdout",
     "output_type": "stream",
     "text": [
      "catch me if you can\n"
     ]
    }
   ],
   "source": [
    "print(\"catch me if you can\")"
   ]
  },
  {
   "cell_type": "code",
   "execution_count": null,
   "id": "da613d5a-4bab-4bb9-8a46-b20b1fd65eaf",
   "metadata": {},
   "outputs": [],
   "source": []
  }
 ],
 "metadata": {
  "kernelspec": {
   "display_name": "Python 3 (ipykernel)",
   "language": "python",
   "name": "python3"
  },
  "language_info": {
   "codemirror_mode": {
    "name": "ipython",
    "version": 3
   },
   "file_extension": ".py",
   "mimetype": "text/x-python",
   "name": "python",
   "nbconvert_exporter": "python",
   "pygments_lexer": "ipython3",
   "version": "3.10.4"
  }
 },
 "nbformat": 4,
 "nbformat_minor": 5
}
